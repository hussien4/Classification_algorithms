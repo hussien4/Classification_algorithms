{
  "cells": [
    {
      "cell_type": "markdown",
      "metadata": {
        "run_control": {
          "marked": true
        },
        "id": "vdjahsfax_ov"
      },
      "source": [
        "# Machine Learning Foundation\n",
        "\n",
        "## Course 3, Part a: Logistic Regression LAB\n"
      ]
    },
    {
      "cell_type": "markdown",
      "metadata": {
        "run_control": {
          "marked": true
        },
        "id": "AkWIOvlqx_o7"
      },
      "source": [
        "## Introduction\n",
        "\n",
        "We will be using the [Human Activity Recognition with Smartphones](https://archive.ics.uci.edu/ml/datasets/Human+Activity+Recognition+Using+Smartphones?utm_medium=Exinfluencer&utm_source=Exinfluencer&utm_content=000026UJ&utm_term=10006555&utm_id=NA-SkillsNetwork-Channel-SkillsNetworkCoursesIBMML241ENSkillsNetwork31576874-2022-01-01) database, which was built from the recordings of study participants who carried a smartphone with an embedded inertial sensor while performing activities of daily living (ADL). The objective is to classify the activities the participants performed into one of the six following categories: walking, walking upstairs, walking downstairs, sitting, standing, and laying.\n",
        "\n",
        "The following information is provided for each record in the dataset:\n",
        "\n",
        "*   Triaxial acceleration from the accelerometer (total acceleration) and the estimated body acceleration\n",
        "*   Triaxial Angular velocity from the gyroscope\n",
        "*   A 561-feature vector with time and frequency domain variables\n",
        "*   The activity label\n",
        "\n",
        "More information about the features are available on the website linked above.\n"
      ]
    },
    {
      "cell_type": "code",
      "execution_count": null,
      "metadata": {
        "id": "llPDjRdKx_pH"
      },
      "outputs": [],
      "source": [
        "def warn(*args, **kwargs):\n",
        "    pass\n",
        "import warnings\n",
        "warnings.warn = warn"
      ]
    },
    {
      "cell_type": "code",
      "execution_count": null,
      "metadata": {
        "run_control": {
          "marked": true
        },
        "id": "u_II0sZlx_pN"
      },
      "outputs": [],
      "source": [
        "import seaborn as sns, pandas as pd, numpy as np"
      ]
    },
    {
      "cell_type": "markdown",
      "metadata": {
        "run_control": {
          "marked": true
        },
        "id": "lpePrRdDx_pP"
      },
      "source": [
        "## Question 1\n",
        "\n",
        "Import the data and do the following:\n",
        "\n",
        "*   Examine the data types--there are many columns, so it might be wise to use value counts.\n",
        "*   Determine if the floating point values need to be scaled.\n",
        "*   Determine the breakdown of each activity.\n",
        "*   Encode the activity label as an integer.\n"
      ]
    },
    {
      "cell_type": "code",
      "source": [
        "from google.colab import drive\n",
        "drive.mount('/content/drive')"
      ],
      "metadata": {
        "colab": {
          "base_uri": "https://localhost:8080/"
        },
        "id": "DiNTgEOryNoK",
        "outputId": "89fe9fc6-729a-45aa-dfbc-8400748213fe"
      },
      "execution_count": null,
      "outputs": [
        {
          "output_type": "stream",
          "name": "stdout",
          "text": [
            "Mounted at /content/drive\n"
          ]
        }
      ]
    },
    {
      "cell_type": "code",
      "execution_count": null,
      "metadata": {
        "jupyter": {
          "outputs_hidden": false
        },
        "run_control": {
          "marked": true
        },
        "id": "k5oyY6CKx_pW"
      },
      "outputs": [],
      "source": [
        "### BEGIN SOLUTION\n",
        "data = pd.read_csv(\"/content/drive/MyDrive/Human_Activity_Recognition_Using_Smartphones_Data.csv\", sep=',')"
      ]
    },
    {
      "cell_type": "markdown",
      "metadata": {
        "run_control": {
          "marked": true
        },
        "id": "uGD4fFjIx_pb"
      },
      "source": [
        "The data columns are all floats except for the activity label.\n"
      ]
    },
    {
      "cell_type": "code",
      "execution_count": null,
      "metadata": {
        "jupyter": {
          "outputs_hidden": false
        },
        "run_control": {
          "marked": true
        },
        "colab": {
          "base_uri": "https://localhost:8080/"
        },
        "id": "0a157SL6x_pe",
        "outputId": "07c1514d-bb15-4e9b-8efa-268f8779dc43"
      },
      "outputs": [
        {
          "output_type": "execute_result",
          "data": {
            "text/plain": [
              "float64    561\n",
              "object       1\n",
              "dtype: int64"
            ]
          },
          "metadata": {},
          "execution_count": 5
        }
      ],
      "source": [
        "data.dtypes.value_counts()"
      ]
    },
    {
      "cell_type": "code",
      "execution_count": null,
      "metadata": {
        "jupyter": {
          "outputs_hidden": false
        },
        "run_control": {
          "marked": true
        },
        "colab": {
          "base_uri": "https://localhost:8080/"
        },
        "id": "I05uMLISx_pi",
        "outputId": "5cce0320-fd63-41c4-b035-055c11a815e4"
      },
      "outputs": [
        {
          "output_type": "execute_result",
          "data": {
            "text/plain": [
              "angle(tBodyGyroJerkMean,gravityMean)    float64\n",
              "angle(X,gravityMean)                    float64\n",
              "angle(Y,gravityMean)                    float64\n",
              "angle(Z,gravityMean)                    float64\n",
              "Activity                                 object\n",
              "dtype: object"
            ]
          },
          "metadata": {},
          "execution_count": 6
        }
      ],
      "source": [
        "data.dtypes.tail()"
      ]
    },
    {
      "cell_type": "markdown",
      "metadata": {
        "run_control": {
          "marked": true
        },
        "id": "4OggRrpmx_pp"
      },
      "source": [
        "The data are all scaled from -1 (minimum) to 1.0 (maximum).\n"
      ]
    },
    {
      "cell_type": "code",
      "execution_count": null,
      "metadata": {
        "jupyter": {
          "outputs_hidden": false
        },
        "run_control": {
          "marked": true
        },
        "colab": {
          "base_uri": "https://localhost:8080/"
        },
        "id": "7_-CoEgkx_pt",
        "outputId": "f48f11aa-b149-4bcf-853e-ed3dcf6c0679"
      },
      "outputs": [
        {
          "output_type": "execute_result",
          "data": {
            "text/plain": [
              "-1.0    561\n",
              "dtype: int64"
            ]
          },
          "metadata": {},
          "execution_count": 7
        }
      ],
      "source": [
        "data.iloc[:, :-1].min().value_counts()"
      ]
    },
    {
      "cell_type": "code",
      "execution_count": null,
      "metadata": {
        "jupyter": {
          "outputs_hidden": false
        },
        "run_control": {
          "marked": true
        },
        "colab": {
          "base_uri": "https://localhost:8080/"
        },
        "id": "klTTgO9dx_pv",
        "outputId": "7e8715ff-68f9-4ba9-eccb-1b09aea724c2"
      },
      "outputs": [
        {
          "output_type": "execute_result",
          "data": {
            "text/plain": [
              "1.0    561\n",
              "dtype: int64"
            ]
          },
          "metadata": {},
          "execution_count": 8
        }
      ],
      "source": [
        "data.iloc[:, :-1].max().value_counts()"
      ]
    },
    {
      "cell_type": "markdown",
      "metadata": {
        "id": "_LcIOh7Yx_px"
      },
      "source": [
        "Examine the breakdown of activities; they are relatively balanced.\n"
      ]
    },
    {
      "cell_type": "code",
      "execution_count": null,
      "metadata": {
        "jupyter": {
          "outputs_hidden": false
        },
        "colab": {
          "base_uri": "https://localhost:8080/"
        },
        "id": "0YYOYvfax_pz",
        "outputId": "9b022b89-03fa-4532-ba6e-0acaf429ecdd"
      },
      "outputs": [
        {
          "output_type": "execute_result",
          "data": {
            "text/plain": [
              "LAYING                1944\n",
              "STANDING              1906\n",
              "SITTING               1777\n",
              "WALKING               1722\n",
              "WALKING_UPSTAIRS      1544\n",
              "WALKING_DOWNSTAIRS    1406\n",
              "Name: Activity, dtype: int64"
            ]
          },
          "metadata": {},
          "execution_count": 9
        }
      ],
      "source": [
        "data.Activity.value_counts()"
      ]
    },
    {
      "cell_type": "markdown",
      "metadata": {
        "id": "D1u4glMax_p1"
      },
      "source": [
        "Scikit learn classifiers won't accept a sparse matrix for the prediction column. Thus, either `LabelEncoder` needs to be used to convert the activity labels to integers, or if `DictVectorizer` is used, the resulting matrix must be converted to a non-sparse array.\\\n",
        "Use `LabelEncoder` to fit_transform the \"Activity\" column, and look at 5 random values.\n"
      ]
    },
    {
      "cell_type": "code",
      "execution_count": null,
      "metadata": {
        "jupyter": {
          "outputs_hidden": false
        },
        "colab": {
          "base_uri": "https://localhost:8080/"
        },
        "id": "EbYzd-WTx_p2",
        "outputId": "92a47cf3-2b53-400f-ced2-5909f8b1a3f9"
      },
      "outputs": [
        {
          "output_type": "execute_result",
          "data": {
            "text/plain": [
              "4790    0\n",
              "4620    0\n",
              "8219    4\n",
              "6940    4\n",
              "5998    3\n",
              "Name: Activity, dtype: int64"
            ]
          },
          "metadata": {},
          "execution_count": 10
        }
      ],
      "source": [
        "from sklearn.preprocessing import LabelEncoder\n",
        "\n",
        "le = LabelEncoder()\n",
        "data['Activity'] = le.fit_transform(data.Activity)\n",
        "data['Activity'].sample(5)\n",
        "### END SOLUTION"
      ]
    },
    {
      "cell_type": "markdown",
      "metadata": {
        "id": "XVF7AF0gx_p6"
      },
      "source": [
        "## Question 2\n",
        "\n",
        "*   Calculate the correlations between the dependent variables.\n",
        "*   Create a histogram of the correlation values.\n",
        "*   Identify those that are most correlated (either positively or negatively).\n"
      ]
    },
    {
      "cell_type": "code",
      "execution_count": null,
      "metadata": {
        "id": "Jw83KLoWx_p-"
      },
      "outputs": [],
      "source": [
        "### BEGIN SOLUTION\n",
        "# Calculate the correlation values\n",
        "feature_cols = data.columns[:-1]\n",
        "corr_values = data[feature_cols].corr()\n",
        "\n",
        "# Simplify by emptying all the data below the diagonal\n",
        "tril_index = np.tril_indices_from(corr_values)\n",
        "\n",
        "# Make the unused values NaNs\n",
        "for coord in zip(*tril_index):\n",
        "    corr_values.iloc[coord[0], coord[1]] = np.NaN\n",
        "\n",
        "# Stack the data and convert to a data frame\n",
        "corr_values = (corr_values\n",
        "               .stack()\n",
        "               .to_frame()\n",
        "               .reset_index()\n",
        "               .rename(columns={'level_0':'feature1',\n",
        "                                'level_1':'feature2',\n",
        "                                0:'correlation'}))\n",
        "\n",
        "# Get the absolute values for sorting\n",
        "corr_values['abs_correlation'] = corr_values.correlation.abs()"
      ]
    },
    {
      "cell_type": "markdown",
      "metadata": {
        "id": "w3Qi0yOVx_qB"
      },
      "source": [
        "A histogram of the absolute value correlations.\n"
      ]
    },
    {
      "cell_type": "code",
      "execution_count": null,
      "metadata": {
        "id": "i0T25yRkx_qD"
      },
      "outputs": [],
      "source": [
        "import matplotlib.pyplot as plt\n",
        "import seaborn as sns\n",
        "%matplotlib inline"
      ]
    },
    {
      "cell_type": "code",
      "execution_count": null,
      "metadata": {
        "jupyter": {
          "outputs_hidden": false
        },
        "colab": {
          "base_uri": "https://localhost:8080/",
          "height": 525
        },
        "id": "GoYoBDy-x_qF",
        "outputId": "9bddf5a7-ca62-4dbb-8422-2ce198ea8f4f"
      },
      "outputs": [
        {
          "output_type": "display_data",
          "data": {
            "text/plain": [
              "<Figure size 864x576 with 1 Axes>"
            ],
            "image/png": "[encoded data removed]"
          },
          "metadata": {}
        }
      ],
      "source": [
        "sns.set_context('talk')\n",
        "sns.set_style('white')\n",
        "\n",
        "ax = corr_values.abs_correlation.hist(bins=50, figsize=(12, 8))\n",
        "ax.set(xlabel='Absolute Correlation', ylabel='Frequency');"
      ]
    },
    {
      "cell_type": "code",
      "execution_count": null,
      "metadata": {
        "jupyter": {
          "outputs_hidden": false
        },
        "colab": {
          "base_uri": "https://localhost:8080/",
          "height": 424
        },
        "id": "lvtS7RLTx_qG",
        "outputId": "0a89514d-ae0b-4f7d-cf0a-b8e8466b749a"
      },
      "outputs": [
        {
          "output_type": "execute_result",
          "data": {
            "text/plain": [
              "                           feature1                    feature2  correlation  \\\n",
              "156894  fBodyBodyGyroJerkMag-mean()  fBodyBodyGyroJerkMag-sma()     1.000000   \n",
              "93902             tBodyAccMag-sma()        tGravityAccMag-sma()     1.000000   \n",
              "101139       tBodyAccJerkMag-mean()       tBodyAccJerkMag-sma()     1.000000   \n",
              "96706         tGravityAccMag-mean()        tGravityAccMag-sma()     1.000000   \n",
              "94257          tBodyAccMag-energy()     tGravityAccMag-energy()     1.000000   \n",
              "...                             ...                         ...          ...   \n",
              "22657          tGravityAcc-mean()-Y        angle(Y,gravityMean)    -0.993425   \n",
              "39225     tGravityAcc-arCoeff()-Z,3   tGravityAcc-arCoeff()-Z,4    -0.994267   \n",
              "38739     tGravityAcc-arCoeff()-Z,2   tGravityAcc-arCoeff()-Z,3    -0.994628   \n",
              "23176          tGravityAcc-mean()-Z        angle(Z,gravityMean)    -0.994764   \n",
              "38252     tGravityAcc-arCoeff()-Z,1   tGravityAcc-arCoeff()-Z,2    -0.995195   \n",
              "\n",
              "        abs_correlation  \n",
              "156894         1.000000  \n",
              "93902          1.000000  \n",
              "101139         1.000000  \n",
              "96706          1.000000  \n",
              "94257          1.000000  \n",
              "...                 ...  \n",
              "22657          0.993425  \n",
              "39225          0.994267  \n",
              "38739          0.994628  \n",
              "23176          0.994764  \n",
              "38252          0.995195  \n",
              "\n",
              "[22815 rows x 4 columns]"
            ],
            "text/html": [
              "\n",
              "  <div id=\"df-08fc70fd-9dc8-47de-b396-d6a2769e39dc\">\n",
              "    <div class=\"colab-df-container\">\n",
              "      <div>\n",
              "<style scoped>\n",
              "    .dataframe tbody tr th:only-of-type {\n",
              "        vertical-align: middle;\n",
              "    }\n",
              "\n",
              "    .dataframe tbody tr th {\n",
              "        vertical-align: top;\n",
              "    }\n",
              "\n",
              "    .dataframe thead th {\n",
              "        text-align: right;\n",
              "    }\n",
              "</style>\n",
              "<table border=\"1\" class=\"dataframe\">\n",
              "  <thead>\n",
              "    <tr style=\"text-align: right;\">\n",
              "      <th></th>\n",
              "      <th>feature1</th>\n",
              "      <th>feature2</th>\n",
              "      <th>correlation</th>\n",
              "      <th>abs_correlation</th>\n",
              "    </tr>\n",
              "  </thead>\n",
              "  <tbody>\n",
              "    <tr>\n",
              "      <th>156894</th>\n",
              "      <td>fBodyBodyGyroJerkMag-mean()</td>\n",
              "      <td>fBodyBodyGyroJerkMag-sma()</td>\n",
              "      <td>1.000000</td>\n",
              "      <td>1.000000</td>\n",
              "    </tr>\n",
              "    <tr>\n",
              "      <th>93902</th>\n",
              "      <td>tBodyAccMag-sma()</td>\n",
              "      <td>tGravityAccMag-sma()</td>\n",
              "      <td>1.000000</td>\n",
              "      <td>1.000000</td>\n",
              "    </tr>\n",
              "    <tr>\n",
              "      <th>101139</th>\n",
              "      <td>tBodyAccJerkMag-mean()</td>\n",
              "      <td>tBodyAccJerkMag-sma()</td>\n",
              "      <td>1.000000</td>\n",
              "      <td>1.000000</td>\n",
              "    </tr>\n",
              "    <tr>\n",
              "      <th>96706</th>\n",
              "      <td>tGravityAccMag-mean()</td>\n",
              "      <td>tGravityAccMag-sma()</td>\n",
              "      <td>1.000000</td>\n",
              "      <td>1.000000</td>\n",
              "    </tr>\n",
              "    <tr>\n",
              "      <th>94257</th>\n",
              "      <td>tBodyAccMag-energy()</td>\n",
              "      <td>tGravityAccMag-energy()</td>\n",
              "      <td>1.000000</td>\n",
              "      <td>1.000000</td>\n",
              "    </tr>\n",
              "    <tr>\n",
              "      <th>...</th>\n",
              "      <td>...</td>\n",
              "      <td>...</td>\n",
              "      <td>...</td>\n",
              "      <td>...</td>\n",
              "    </tr>\n",
              "    <tr>\n",
              "      <th>22657</th>\n",
              "      <td>tGravityAcc-mean()-Y</td>\n",
              "      <td>angle(Y,gravityMean)</td>\n",
              "      <td>-0.993425</td>\n",
              "      <td>0.993425</td>\n",
              "    </tr>\n",
              "    <tr>\n",
              "      <th>39225</th>\n",
              "      <td>tGravityAcc-arCoeff()-Z,3</td>\n",
              "      <td>tGravityAcc-arCoeff()-Z,4</td>\n",
              "      <td>-0.994267</td>\n",
              "      <td>0.994267</td>\n",
              "    </tr>\n",
              "    <tr>\n",
              "      <th>38739</th>\n",
              "      <td>tGravityAcc-arCoeff()-Z,2</td>\n",
              "      <td>tGravityAcc-arCoeff()-Z,3</td>\n",
              "      <td>-0.994628</td>\n",
              "      <td>0.994628</td>\n",
              "    </tr>\n",
              "    <tr>\n",
              "      <th>23176</th>\n",
              "      <td>tGravityAcc-mean()-Z</td>\n",
              "      <td>angle(Z,gravityMean)</td>\n",
              "      <td>-0.994764</td>\n",
              "      <td>0.994764</td>\n",
              "    </tr>\n",
              "    <tr>\n",
              "      <th>38252</th>\n",
              "      <td>tGravityAcc-arCoeff()-Z,1</td>\n",
              "      <td>tGravityAcc-arCoeff()-Z,2</td>\n",
              "      <td>-0.995195</td>\n",
              "      <td>0.995195</td>\n",
              "    </tr>\n",
              "  </tbody>\n",
              "</table>\n",
              "<p>22815 rows × 4 columns</p>\n",
              "</div>\n",
              "      <button class=\"colab-df-convert\" onclick=\"convertToInteractive('df-08fc70fd-9dc8-47de-b396-d6a2769e39dc')\"\n",
              "              title=\"Convert this dataframe to an interactive table.\"\n",
              "              style=\"display:none;\">\n",
              "        \n",
              "  <svg xmlns=\"http://www.w3.org/2000/svg\" height=\"24px\"viewBox=\"0 0 24 24\"\n",
              "       width=\"24px\">\n",
              "    <path d=\"M0 0h24v24H0V0z\" fill=\"none\"/>\n",
              "    <path d=\"M18.56 5.44l.94 2.06.94-2.06 2.06-.94-2.06-.94-.94-2.06-.94 2.06-2.06.94zm-11 1L8.5 8.5l.94-2.06 2.06-.94-2.06-.94L8.5 2.5l-.94 2.06-2.06.94zm10 10l.94 2.06.94-2.06 2.06-.94-2.06-.94-.94-2.06-.94 2.06-2.06.94z\"/><path d=\"M17.41 7.96l-1.37-1.37c-.4-.4-.92-.59-1.43-.59-.52 0-1.04.2-1.43.59L10.3 9.45l-7.72 7.72c-.78.78-.78 2.05 0 2.83L4 21.41c.39.39.9.59 1.41.59.51 0 1.02-.2 1.41-.59l7.78-7.78 2.81-2.81c.8-.78.8-2.07 0-2.86zM5.41 20L4 18.59l7.72-7.72 1.47 1.35L5.41 20z\"/>\n",
              "  </svg>\n",
              "      </button>\n",
              "      \n",
              "  <style>\n",
              "    .colab-df-container {\n",
              "      display:flex;\n",
              "      flex-wrap:wrap;\n",
              "      gap: 12px;\n",
              "    }\n",
              "\n",
              "    .colab-df-convert {\n",
              "      background-color: #E8F0FE;\n",
              "      border: none;\n",
              "      border-radius: 50%;\n",
              "      cursor: pointer;\n",
              "      display: none;\n",
              "      fill: #1967D2;\n",
              "      height: 32px;\n",
              "      padding: 0 0 0 0;\n",
              "      width: 32px;\n",
              "    }\n",
              "\n",
              "    .colab-df-convert:hover {\n",
              "      background-color: #E2EBFA;\n",
              "      box-shadow: 0px 1px 2px rgba(60, 64, 67, 0.3), 0px 1px 3px 1px rgba(60, 64, 67, 0.15);\n",
              "      fill: #174EA6;\n",
              "    }\n",
              "\n",
              "    [theme=dark] .colab-df-convert {\n",
              "      background-color: #3B4455;\n",
              "      fill: #D2E3FC;\n",
              "    }\n",
              "\n",
              "    [theme=dark] .colab-df-convert:hover {\n",
              "      background-color: #434B5C;\n",
              "      box-shadow: 0px 1px 3px 1px rgba(0, 0, 0, 0.15);\n",
              "      filter: drop-shadow(0px 1px 2px rgba(0, 0, 0, 0.3));\n",
              "      fill: #FFFFFF;\n",
              "    }\n",
              "  </style>\n",
              "\n",
              "      <script>\n",
              "        const buttonEl =\n",
              "          document.querySelector('#df-08fc70fd-9dc8-47de-b396-d6a2769e39dc button.colab-df-convert');\n",
              "        buttonEl.style.display =\n",
              "          google.colab.kernel.accessAllowed ? 'block' : 'none';\n",
              "\n",
              "        async function convertToInteractive(key) {\n",
              "          const element = document.querySelector('#df-08fc70fd-9dc8-47de-b396-d6a2769e39dc');\n",
              "          const dataTable =\n",
              "            await google.colab.kernel.invokeFunction('convertToInteractive',\n",
              "                                                     [key], {});\n",
              "          if (!dataTable) return;\n",
              "\n",
              "          const docLinkHtml = 'Like what you see? Visit the ' +\n",
              "            '<a target=\"_blank\" href=https://colab.research.google.com/notebooks/data_table.ipynb>data table notebook</a>'\n",
              "            + ' to learn more about interactive tables.';\n",
              "          element.innerHTML = '';\n",
              "          dataTable['output_type'] = 'display_data';\n",
              "          await google.colab.output.renderOutput(dataTable, element);\n",
              "          const docLink = document.createElement('div');\n",
              "          docLink.innerHTML = docLinkHtml;\n",
              "          element.appendChild(docLink);\n",
              "        }\n",
              "      </script>\n",
              "    </div>\n",
              "  </div>\n",
              "  "
            ]
          },
          "metadata": {},
          "execution_count": 14
        }
      ],
      "source": [
        "# The most highly correlated values\n",
        "corr_values.sort_values('correlation', ascending=False).query('abs_correlation>0.8')\n",
        "### END SOLUTION"
      ]
    },
    {
      "cell_type": "markdown",
      "metadata": {
        "id": "ysCqtzl8x_qI"
      },
      "source": [
        "## Question 3\n",
        "\n",
        "*   Split the data into train and test data sets. This can be done using any method, but consider using Scikit-learn's `StratifiedShuffleSplit` to maintain the same ratio of predictor classes.\n",
        "*   Regardless of the method used to split the data, compare the ratio of classes in both the train and test splits.\n"
      ]
    },
    {
      "cell_type": "code",
      "source": [
        "X = data.drop(columns=['Activity'])\n",
        "y = data['Activity']"
      ],
      "metadata": {
        "id": "_z5xnG2Wz5XB"
      },
      "execution_count": null,
      "outputs": []
    },
    {
      "cell_type": "code",
      "source": [
        "### BEGIN SOLUTION\n",
        "from sklearn.model_selection import StratifiedShuffleSplit\n",
        "\n",
        "# Get the split indexes\n",
        "strat_shuf_split = StratifiedShuffleSplit(n_splits=1,\n",
        "                                          test_size=0.3,\n",
        "                                          random_state=42)\n",
        "\n",
        "train_idx, test_idx = next(strat_shuf_split.split(X,y))"
      ],
      "metadata": {
        "id": "PT_vpvP43Djd"
      },
      "execution_count": null,
      "outputs": []
    },
    {
      "cell_type": "code",
      "execution_count": null,
      "metadata": {
        "jupyter": {
          "outputs_hidden": false
        },
        "id": "qPopCumex_qJ"
      },
      "outputs": [],
      "source": [
        "### BEGIN SOLUTION\n",
        "from sklearn.model_selection import StratifiedShuffleSplit\n",
        "\n",
        "# Get the split indexes\n",
        "strat_shuf_split = StratifiedShuffleSplit(n_splits=1,\n",
        "                                          test_size=0.3,\n",
        "                                          random_state=42)\n",
        "\n",
        "train_idx, test_idx = next(strat_shuf_split.split(X,y))\n",
        "\n",
        "# Create the dataframes\n",
        "X_train = data.loc[train_idx, feature_cols]\n",
        "y_train = data.loc[train_idx, 'Activity']\n",
        "\n",
        "X_test  = data.loc[test_idx, feature_cols]\n",
        "y_test  = data.loc[test_idx, 'Activity']"
      ]
    },
    {
      "cell_type": "code",
      "execution_count": null,
      "metadata": {
        "jupyter": {
          "outputs_hidden": false
        },
        "colab": {
          "base_uri": "https://localhost:8080/"
        },
        "id": "z2-wYMKUx_qL",
        "outputId": "9f2a5f79-86de-4b16-ee7e-30daaec80499"
      },
      "outputs": [
        {
          "output_type": "execute_result",
          "data": {
            "text/plain": [
              "0    0.188792\n",
              "2    0.185046\n",
              "1    0.172562\n",
              "3    0.167152\n",
              "5    0.149951\n",
              "4    0.136496\n",
              "Name: Activity, dtype: float64"
            ]
          },
          "metadata": {},
          "execution_count": 27
        }
      ],
      "source": [
        "y_train.value_counts(normalize=True)"
      ]
    },
    {
      "cell_type": "code",
      "execution_count": null,
      "metadata": {
        "jupyter": {
          "outputs_hidden": false
        },
        "colab": {
          "base_uri": "https://localhost:8080/"
        },
        "id": "7qq5jFTCx_qM",
        "outputId": "207ead12-15bf-404a-b3e9-c20455c06c37"
      },
      "outputs": [
        {
          "output_type": "execute_result",
          "data": {
            "text/plain": [
              "0    0.188673\n",
              "2    0.185113\n",
              "1    0.172492\n",
              "3    0.167314\n",
              "5    0.149838\n",
              "4    0.136570\n",
              "Name: Activity, dtype: float64"
            ]
          },
          "metadata": {},
          "execution_count": 28
        }
      ],
      "source": [
        "y_test.value_counts(normalize=True)\n",
        "### END SOLUTION"
      ]
    },
    {
      "cell_type": "markdown",
      "metadata": {
        "id": "GIzEAKcFx_qO"
      },
      "source": [
        "## Question 4\n",
        "\n",
        "*   Fit a logistic regression model without any regularization using all of the features. Be sure to read the documentation about fitting a multi-class model so you understand the coefficient output. Store the model.\n",
        "*   Using cross validation to determine the hyperparameters and fit models using L1 and L2 regularization. Store each of these models as well. Note the limitations on multi-class models, solvers, and regularizations. The regularized models, in particular the L1 model, will probably take a while to fit.\n"
      ]
    },
    {
      "cell_type": "markdown",
      "source": [
        "Csint or list of floats, default=10\n",
        "\n",
        "    Each of the values in Cs describes the inverse of regularization strength. If Cs is as an int, then a grid of Cs values are chosen in a\n",
        "    \n",
        "    logarithmic scale between 1e-4 and 1e4. Like in support vector machines, smaller values specify stronger regularization.\n",
        "\n",
        "\n",
        "> Indented block\n",
        "\n"
      ],
      "metadata": {
        "id": "qON5enCe5RqV"
      }
    },
    {
      "cell_type": "code",
      "execution_count": null,
      "metadata": {
        "jupyter": {
          "outputs_hidden": false
        },
        "id": "Gen_Ke8Gx_qQ"
      },
      "outputs": [],
      "source": [
        "### BEGIN SOLUTION\n",
        "from sklearn.linear_model import LogisticRegression\n",
        "\n",
        "# Standard logistic regression\n",
        "lr = LogisticRegression(solver='liblinear').fit(X_train, y_train)"
      ]
    },
    {
      "cell_type": "code",
      "execution_count": null,
      "metadata": {
        "jupyter": {
          "outputs_hidden": false
        },
        "id": "KHPyOjKgx_qT"
      },
      "outputs": [],
      "source": [
        "from sklearn.linear_model import LogisticRegressionCV\n",
        "\n",
        "# L1 regularized logistic regression\n",
        "lr_l1 = LogisticRegressionCV(Cs=10, cv=4, penalty='l1', solver='liblinear').fit(X_train, y_train)"
      ]
    },
    {
      "cell_type": "code",
      "execution_count": null,
      "metadata": {
        "id": "8IjOEbFDx_qV"
      },
      "outputs": [],
      "source": [
        "# L2 regularized logistic regression\n",
        "lr_l2 = LogisticRegressionCV(Cs=10, cv=4, penalty='l2', solver='liblinear').fit(X_train, y_train)\n",
        "### END SOLUTION"
      ]
    },
    {
      "cell_type": "markdown",
      "metadata": {
        "id": "WQEzezELx_qW"
      },
      "source": [
        "## Question 5\n",
        "\n",
        "*   Compare the magnitudes of the coefficients for each of the models. If one-vs-rest fitting was used, each set of coefficients can be plotted separately.\n"
      ]
    },
    {
      "cell_type": "code",
      "execution_count": null,
      "metadata": {
        "jupyter": {
          "outputs_hidden": false
        },
        "id": "lEPOjlnxx_qY",
        "colab": {
          "base_uri": "https://localhost:8080/",
          "height": 458
        },
        "outputId": "7e30e5c1-1f30-4c98-9995-64b1800f358d"
      },
      "outputs": [
        {
          "output_type": "execute_result",
          "data": {
            "text/plain": [
              "           lr                                                          l1  \\\n",
              "            0         1         2         3         4         5         0   \n",
              "0   -0.087506 -0.445226  0.257963 -0.169283  0.764733 -0.080084  0.000000   \n",
              "398 -0.012117  0.184953  0.200984  0.156290 -0.174048  0.117448 -0.065802   \n",
              "497 -0.007822  0.186936  0.176928 -0.591572  0.055975  1.001184  0.000000   \n",
              "151 -0.031764  0.728425 -0.519482 -0.062073 -0.188187  0.096077  0.000000   \n",
              "92   0.081645  0.046129  0.281299 -0.441471  1.924107 -1.968922  0.000000   \n",
              "305 -0.011883  0.169760  0.145232  0.004554 -0.061212  0.002490  0.000000   \n",
              "242  0.016123 -0.078789  0.061986 -0.731070  0.464680 -0.069518  0.000000   \n",
              "119 -0.147098  0.185356 -0.005479  0.746944 -1.023985  0.221864  0.000000   \n",
              "359 -0.062455 -0.213064 -0.372284  0.081834  0.101221 -0.334140  0.000000   \n",
              "545 -0.011598  0.005142  0.244426 -0.183261  0.178858  0.570337  0.000000   \n",
              "\n",
              "                                                             l2            \\\n",
              "            1         2         3         4         5         0         1   \n",
              "0    0.000000  0.000000 -1.374078  4.318457  0.000000 -0.135283 -1.348236   \n",
              "398  0.000294  0.000000  0.078463 -0.068922  0.115007 -0.040859  0.608004   \n",
              "497  0.000162  0.000000 -0.432458  0.000000  0.561284 -0.034750  0.398732   \n",
              "151  1.569564 -1.377334  0.000000 -0.285298 -0.133494 -0.072344  4.656313   \n",
              "92   0.000000  0.000000 -1.630859  5.062448 -4.694121  0.145722  0.080921   \n",
              "305  0.000000  0.000000  0.226324  0.005437  0.000000 -0.040329  0.452304   \n",
              "242  0.000000  0.000000 -1.536277  1.606875 -0.170111  0.040247 -0.381342   \n",
              "119  0.000000  0.000000  2.600169 -1.832695  0.502353 -0.296800  0.037007   \n",
              "359  0.000000  0.000000  0.000000  0.180984 -0.547492 -0.104034 -0.582248   \n",
              "545  0.000000  0.000000  0.000000  0.063723  0.643045 -0.036330 -0.434933   \n",
              "\n",
              "                                             \n",
              "            2         3         4         5  \n",
              "0    0.479343 -0.478968  1.838793  0.029739  \n",
              "398  0.281807  0.301230 -0.442250  0.346472  \n",
              "497  0.206981 -1.834683  0.109040  2.375278  \n",
              "151 -1.055107  0.018410 -0.515473 -0.072114  \n",
              "92   0.312021 -0.970054  3.520614 -3.473673  \n",
              "305  0.190982  0.134891 -0.353439  0.064259  \n",
              "242  0.077237 -2.144272  0.939091 -0.270482  \n",
              "119  0.079306  2.741510 -1.826302  0.540224  \n",
              "359 -0.529108  0.108955  0.131039 -0.660322  \n",
              "545  0.276990 -0.717252  0.295734  1.369880  "
            ],
            "text/html": [
              "\n",
              "  <div id=\"df-40cc878e-3a19-4bee-a4ae-c0816e47e15c\">\n",
              "    <div class=\"colab-df-container\">\n",
              "      <div>\n",
              "<style scoped>\n",
              "    .dataframe tbody tr th:only-of-type {\n",
              "        vertical-align: middle;\n",
              "    }\n",
              "\n",
              "    .dataframe tbody tr th {\n",
              "        vertical-align: top;\n",
              "    }\n",
              "\n",
              "    .dataframe thead tr th {\n",
              "        text-align: left;\n",
              "    }\n",
              "</style>\n",
              "<table border=\"1\" class=\"dataframe\">\n",
              "  <thead>\n",
              "    <tr>\n",
              "      <th></th>\n",
              "      <th colspan=\"6\" halign=\"left\">lr</th>\n",
              "      <th colspan=\"6\" halign=\"left\">l1</th>\n",
              "      <th colspan=\"6\" halign=\"left\">l2</th>\n",
              "    </tr>\n",
              "    <tr>\n",
              "      <th></th>\n",
              "      <th>0</th>\n",
              "      <th>1</th>\n",
              "      <th>2</th>\n",
              "      <th>3</th>\n",
              "      <th>4</th>\n",
              "      <th>5</th>\n",
              "      <th>0</th>\n",
              "      <th>1</th>\n",
              "      <th>2</th>\n",
              "      <th>3</th>\n",
              "      <th>4</th>\n",
              "      <th>5</th>\n",
              "      <th>0</th>\n",
              "      <th>1</th>\n",
              "      <th>2</th>\n",
              "      <th>3</th>\n",
              "      <th>4</th>\n",
              "      <th>5</th>\n",
              "    </tr>\n",
              "  </thead>\n",
              "  <tbody>\n",
              "    <tr>\n",
              "      <th>0</th>\n",
              "      <td>-0.087506</td>\n",
              "      <td>-0.445226</td>\n",
              "      <td>0.257963</td>\n",
              "      <td>-0.169283</td>\n",
              "      <td>0.764733</td>\n",
              "      <td>-0.080084</td>\n",
              "      <td>0.000000</td>\n",
              "      <td>0.000000</td>\n",
              "      <td>0.000000</td>\n",
              "      <td>-1.374078</td>\n",
              "      <td>4.318457</td>\n",
              "      <td>0.000000</td>\n",
              "      <td>-0.135283</td>\n",
              "      <td>-1.348236</td>\n",
              "      <td>0.479343</td>\n",
              "      <td>-0.478968</td>\n",
              "      <td>1.838793</td>\n",
              "      <td>0.029739</td>\n",
              "    </tr>\n",
              "    <tr>\n",
              "      <th>398</th>\n",
              "      <td>-0.012117</td>\n",
              "      <td>0.184953</td>\n",
              "      <td>0.200984</td>\n",
              "      <td>0.156290</td>\n",
              "      <td>-0.174048</td>\n",
              "      <td>0.117448</td>\n",
              "      <td>-0.065802</td>\n",
              "      <td>0.000294</td>\n",
              "      <td>0.000000</td>\n",
              "      <td>0.078463</td>\n",
              "      <td>-0.068922</td>\n",
              "      <td>0.115007</td>\n",
              "      <td>-0.040859</td>\n",
              "      <td>0.608004</td>\n",
              "      <td>0.281807</td>\n",
              "      <td>0.301230</td>\n",
              "      <td>-0.442250</td>\n",
              "      <td>0.346472</td>\n",
              "    </tr>\n",
              "    <tr>\n",
              "      <th>497</th>\n",
              "      <td>-0.007822</td>\n",
              "      <td>0.186936</td>\n",
              "      <td>0.176928</td>\n",
              "      <td>-0.591572</td>\n",
              "      <td>0.055975</td>\n",
              "      <td>1.001184</td>\n",
              "      <td>0.000000</td>\n",
              "      <td>0.000162</td>\n",
              "      <td>0.000000</td>\n",
              "      <td>-0.432458</td>\n",
              "      <td>0.000000</td>\n",
              "      <td>0.561284</td>\n",
              "      <td>-0.034750</td>\n",
              "      <td>0.398732</td>\n",
              "      <td>0.206981</td>\n",
              "      <td>-1.834683</td>\n",
              "      <td>0.109040</td>\n",
              "      <td>2.375278</td>\n",
              "    </tr>\n",
              "    <tr>\n",
              "      <th>151</th>\n",
              "      <td>-0.031764</td>\n",
              "      <td>0.728425</td>\n",
              "      <td>-0.519482</td>\n",
              "      <td>-0.062073</td>\n",
              "      <td>-0.188187</td>\n",
              "      <td>0.096077</td>\n",
              "      <td>0.000000</td>\n",
              "      <td>1.569564</td>\n",
              "      <td>-1.377334</td>\n",
              "      <td>0.000000</td>\n",
              "      <td>-0.285298</td>\n",
              "      <td>-0.133494</td>\n",
              "      <td>-0.072344</td>\n",
              "      <td>4.656313</td>\n",
              "      <td>-1.055107</td>\n",
              "      <td>0.018410</td>\n",
              "      <td>-0.515473</td>\n",
              "      <td>-0.072114</td>\n",
              "    </tr>\n",
              "    <tr>\n",
              "      <th>92</th>\n",
              "      <td>0.081645</td>\n",
              "      <td>0.046129</td>\n",
              "      <td>0.281299</td>\n",
              "      <td>-0.441471</td>\n",
              "      <td>1.924107</td>\n",
              "      <td>-1.968922</td>\n",
              "      <td>0.000000</td>\n",
              "      <td>0.000000</td>\n",
              "      <td>0.000000</td>\n",
              "      <td>-1.630859</td>\n",
              "      <td>5.062448</td>\n",
              "      <td>-4.694121</td>\n",
              "      <td>0.145722</td>\n",
              "      <td>0.080921</td>\n",
              "      <td>0.312021</td>\n",
              "      <td>-0.970054</td>\n",
              "      <td>3.520614</td>\n",
              "      <td>-3.473673</td>\n",
              "    </tr>\n",
              "    <tr>\n",
              "      <th>305</th>\n",
              "      <td>-0.011883</td>\n",
              "      <td>0.169760</td>\n",
              "      <td>0.145232</td>\n",
              "      <td>0.004554</td>\n",
              "      <td>-0.061212</td>\n",
              "      <td>0.002490</td>\n",
              "      <td>0.000000</td>\n",
              "      <td>0.000000</td>\n",
              "      <td>0.000000</td>\n",
              "      <td>0.226324</td>\n",
              "      <td>0.005437</td>\n",
              "      <td>0.000000</td>\n",
              "      <td>-0.040329</td>\n",
              "      <td>0.452304</td>\n",
              "      <td>0.190982</td>\n",
              "      <td>0.134891</td>\n",
              "      <td>-0.353439</td>\n",
              "      <td>0.064259</td>\n",
              "    </tr>\n",
              "    <tr>\n",
              "      <th>242</th>\n",
              "      <td>0.016123</td>\n",
              "      <td>-0.078789</td>\n",
              "      <td>0.061986</td>\n",
              "      <td>-0.731070</td>\n",
              "      <td>0.464680</td>\n",
              "      <td>-0.069518</td>\n",
              "      <td>0.000000</td>\n",
              "      <td>0.000000</td>\n",
              "      <td>0.000000</td>\n",
              "      <td>-1.536277</td>\n",
              "      <td>1.606875</td>\n",
              "      <td>-0.170111</td>\n",
              "      <td>0.040247</td>\n",
              "      <td>-0.381342</td>\n",
              "      <td>0.077237</td>\n",
              "      <td>-2.144272</td>\n",
              "      <td>0.939091</td>\n",
              "      <td>-0.270482</td>\n",
              "    </tr>\n",
              "    <tr>\n",
              "      <th>119</th>\n",
              "      <td>-0.147098</td>\n",
              "      <td>0.185356</td>\n",
              "      <td>-0.005479</td>\n",
              "      <td>0.746944</td>\n",
              "      <td>-1.023985</td>\n",
              "      <td>0.221864</td>\n",
              "      <td>0.000000</td>\n",
              "      <td>0.000000</td>\n",
              "      <td>0.000000</td>\n",
              "      <td>2.600169</td>\n",
              "      <td>-1.832695</td>\n",
              "      <td>0.502353</td>\n",
              "      <td>-0.296800</td>\n",
              "      <td>0.037007</td>\n",
              "      <td>0.079306</td>\n",
              "      <td>2.741510</td>\n",
              "      <td>-1.826302</td>\n",
              "      <td>0.540224</td>\n",
              "    </tr>\n",
              "    <tr>\n",
              "      <th>359</th>\n",
              "      <td>-0.062455</td>\n",
              "      <td>-0.213064</td>\n",
              "      <td>-0.372284</td>\n",
              "      <td>0.081834</td>\n",
              "      <td>0.101221</td>\n",
              "      <td>-0.334140</td>\n",
              "      <td>0.000000</td>\n",
              "      <td>0.000000</td>\n",
              "      <td>0.000000</td>\n",
              "      <td>0.000000</td>\n",
              "      <td>0.180984</td>\n",
              "      <td>-0.547492</td>\n",
              "      <td>-0.104034</td>\n",
              "      <td>-0.582248</td>\n",
              "      <td>-0.529108</td>\n",
              "      <td>0.108955</td>\n",
              "      <td>0.131039</td>\n",
              "      <td>-0.660322</td>\n",
              "    </tr>\n",
              "    <tr>\n",
              "      <th>545</th>\n",
              "      <td>-0.011598</td>\n",
              "      <td>0.005142</td>\n",
              "      <td>0.244426</td>\n",
              "      <td>-0.183261</td>\n",
              "      <td>0.178858</td>\n",
              "      <td>0.570337</td>\n",
              "      <td>0.000000</td>\n",
              "      <td>0.000000</td>\n",
              "      <td>0.000000</td>\n",
              "      <td>0.000000</td>\n",
              "      <td>0.063723</td>\n",
              "      <td>0.643045</td>\n",
              "      <td>-0.036330</td>\n",
              "      <td>-0.434933</td>\n",
              "      <td>0.276990</td>\n",
              "      <td>-0.717252</td>\n",
              "      <td>0.295734</td>\n",
              "      <td>1.369880</td>\n",
              "    </tr>\n",
              "  </tbody>\n",
              "</table>\n",
              "</div>\n",
              "      <button class=\"colab-df-convert\" onclick=\"convertToInteractive('df-40cc878e-3a19-4bee-a4ae-c0816e47e15c')\"\n",
              "              title=\"Convert this dataframe to an interactive table.\"\n",
              "              style=\"display:none;\">\n",
              "        \n",
              "  <svg xmlns=\"http://www.w3.org/2000/svg\" height=\"24px\"viewBox=\"0 0 24 24\"\n",
              "       width=\"24px\">\n",
              "    <path d=\"M0 0h24v24H0V0z\" fill=\"none\"/>\n",
              "    <path d=\"M18.56 5.44l.94 2.06.94-2.06 2.06-.94-2.06-.94-.94-2.06-.94 2.06-2.06.94zm-11 1L8.5 8.5l.94-2.06 2.06-.94-2.06-.94L8.5 2.5l-.94 2.06-2.06.94zm10 10l.94 2.06.94-2.06 2.06-.94-2.06-.94-.94-2.06-.94 2.06-2.06.94z\"/><path d=\"M17.41 7.96l-1.37-1.37c-.4-.4-.92-.59-1.43-.59-.52 0-1.04.2-1.43.59L10.3 9.45l-7.72 7.72c-.78.78-.78 2.05 0 2.83L4 21.41c.39.39.9.59 1.41.59.51 0 1.02-.2 1.41-.59l7.78-7.78 2.81-2.81c.8-.78.8-2.07 0-2.86zM5.41 20L4 18.59l7.72-7.72 1.47 1.35L5.41 20z\"/>\n",
              "  </svg>\n",
              "      </button>\n",
              "      \n",
              "  <style>\n",
              "    .colab-df-container {\n",
              "      display:flex;\n",
              "      flex-wrap:wrap;\n",
              "      gap: 12px;\n",
              "    }\n",
              "\n",
              "    .colab-df-convert {\n",
              "      background-color: #E8F0FE;\n",
              "      border: none;\n",
              "      border-radius: 50%;\n",
              "      cursor: pointer;\n",
              "      display: none;\n",
              "      fill: #1967D2;\n",
              "      height: 32px;\n",
              "      padding: 0 0 0 0;\n",
              "      width: 32px;\n",
              "    }\n",
              "\n",
              "    .colab-df-convert:hover {\n",
              "      background-color: #E2EBFA;\n",
              "      box-shadow: 0px 1px 2px rgba(60, 64, 67, 0.3), 0px 1px 3px 1px rgba(60, 64, 67, 0.15);\n",
              "      fill: #174EA6;\n",
              "    }\n",
              "\n",
              "    [theme=dark] .colab-df-convert {\n",
              "      background-color: #3B4455;\n",
              "      fill: #D2E3FC;\n",
              "    }\n",
              "\n",
              "    [theme=dark] .colab-df-convert:hover {\n",
              "      background-color: #434B5C;\n",
              "      box-shadow: 0px 1px 3px 1px rgba(0, 0, 0, 0.15);\n",
              "      filter: drop-shadow(0px 1px 2px rgba(0, 0, 0, 0.3));\n",
              "      fill: #FFFFFF;\n",
              "    }\n",
              "  </style>\n",
              "\n",
              "      <script>\n",
              "        const buttonEl =\n",
              "          document.querySelector('#df-40cc878e-3a19-4bee-a4ae-c0816e47e15c button.colab-df-convert');\n",
              "        buttonEl.style.display =\n",
              "          google.colab.kernel.accessAllowed ? 'block' : 'none';\n",
              "\n",
              "        async function convertToInteractive(key) {\n",
              "          const element = document.querySelector('#df-40cc878e-3a19-4bee-a4ae-c0816e47e15c');\n",
              "          const dataTable =\n",
              "            await google.colab.kernel.invokeFunction('convertToInteractive',\n",
              "                                                     [key], {});\n",
              "          if (!dataTable) return;\n",
              "\n",
              "          const docLinkHtml = 'Like what you see? Visit the ' +\n",
              "            '<a target=\"_blank\" href=https://colab.research.google.com/notebooks/data_table.ipynb>data table notebook</a>'\n",
              "            + ' to learn more about interactive tables.';\n",
              "          element.innerHTML = '';\n",
              "          dataTable['output_type'] = 'display_data';\n",
              "          await google.colab.output.renderOutput(dataTable, element);\n",
              "          const docLink = document.createElement('div');\n",
              "          docLink.innerHTML = docLinkHtml;\n",
              "          element.appendChild(docLink);\n",
              "        }\n",
              "      </script>\n",
              "    </div>\n",
              "  </div>\n",
              "  "
            ]
          },
          "metadata": {},
          "execution_count": 18
        }
      ],
      "source": [
        "### BEGIN SOLUTION\n",
        "# Combine all the coefficients into a dataframe\n",
        "coefficients = list()\n",
        "\n",
        "coeff_labels = ['lr', 'l1', 'l2']\n",
        "coeff_models = [lr, lr_l1, lr_l2]\n",
        "\n",
        "for lab,mod in zip(coeff_labels, coeff_models):\n",
        "    coeffs = mod.coef_\n",
        "    coeff_label = pd.MultiIndex(levels=[[lab], [0,1,2,3,4,5]],\n",
        "                                 codes=[[0,0,0,0,0,0], [0,1,2,3,4,5]])\n",
        "    coefficients.append(pd.DataFrame(coeffs.T, columns=coeff_label))\n",
        "\n",
        "coefficients = pd.concat(coefficients, axis=1)\n",
        "\n",
        "coefficients.sample(10)"
      ]
    },
    {
      "cell_type": "markdown",
      "metadata": {
        "id": "gWtck-Xnx_qa"
      },
      "source": [
        "Prepare six separate plots for each of the multi-class coefficients.\n"
      ]
    },
    {
      "cell_type": "code",
      "execution_count": null,
      "metadata": {
        "jupyter": {
          "outputs_hidden": false
        },
        "colab": {
          "base_uri": "https://localhost:8080/",
          "height": 712
        },
        "id": "EhYB6HUux_qb",
        "outputId": "295b2ead-4440-4cdd-995e-e896426e7259"
      },
      "outputs": [
        {
          "output_type": "display_data",
          "data": {
            "text/plain": [
              "<Figure size 720x720 with 6 Axes>"
            ],
            "image/png": "[encoded data removed]"
          },
          "metadata": {}
        }
      ],
      "source": [
        "fig, axList = plt.subplots(nrows=3, ncols=2)\n",
        "axList = axList.flatten()\n",
        "fig.set_size_inches(10,10)\n",
        "\n",
        "for ax in enumerate(axList):\n",
        "    loc = ax[0]\n",
        "    ax = ax[1]\n",
        "\n",
        "    data = coefficients.xs(loc, level=1, axis=1)\n",
        "    data.plot(marker='o', ls='', ms=2.0, ax=ax, legend=False)\n",
        "\n",
        "    if ax is axList[0]:\n",
        "        ax.legend(loc=4)\n",
        "\n",
        "    ax.set(title='Coefficient Set '+str(loc))\n",
        "\n",
        "plt.tight_layout()\n",
        "### END SOLUTION"
      ]
    },
    {
      "cell_type": "markdown",
      "metadata": {
        "id": "XKiDqT21x_qd"
      },
      "source": [
        "## Question 6\n",
        "\n",
        "*   Predict and store the class for each model.\n",
        "*   Store the probability for the predicted class for each model.\n"
      ]
    },
    {
      "cell_type": "code",
      "execution_count": null,
      "metadata": {
        "jupyter": {
          "outputs_hidden": false
        },
        "id": "_j8IioiCx_qe",
        "colab": {
          "base_uri": "https://localhost:8080/",
          "height": 206
        },
        "outputId": "ea09b5b2-7a1e-42bc-f942-dbde92b342bf"
      },
      "outputs": [
        {
          "output_type": "execute_result",
          "data": {
            "text/plain": [
              "   lr  l1  l2\n",
              "0   3   3   3\n",
              "1   5   5   5\n",
              "2   3   3   3\n",
              "3   1   1   1\n",
              "4   0   0   0"
            ],
            "text/html": [
              "\n",
              "  <div id=\"df-159ec076-8f1c-45e4-90d2-cc73c4cd8a4b\">\n",
              "    <div class=\"colab-df-container\">\n",
              "      <div>\n",
              "<style scoped>\n",
              "    .dataframe tbody tr th:only-of-type {\n",
              "        vertical-align: middle;\n",
              "    }\n",
              "\n",
              "    .dataframe tbody tr th {\n",
              "        vertical-align: top;\n",
              "    }\n",
              "\n",
              "    .dataframe thead th {\n",
              "        text-align: right;\n",
              "    }\n",
              "</style>\n",
              "<table border=\"1\" class=\"dataframe\">\n",
              "  <thead>\n",
              "    <tr style=\"text-align: right;\">\n",
              "      <th></th>\n",
              "      <th>lr</th>\n",
              "      <th>l1</th>\n",
              "      <th>l2</th>\n",
              "    </tr>\n",
              "  </thead>\n",
              "  <tbody>\n",
              "    <tr>\n",
              "      <th>0</th>\n",
              "      <td>3</td>\n",
              "      <td>3</td>\n",
              "      <td>3</td>\n",
              "    </tr>\n",
              "    <tr>\n",
              "      <th>1</th>\n",
              "      <td>5</td>\n",
              "      <td>5</td>\n",
              "      <td>5</td>\n",
              "    </tr>\n",
              "    <tr>\n",
              "      <th>2</th>\n",
              "      <td>3</td>\n",
              "      <td>3</td>\n",
              "      <td>3</td>\n",
              "    </tr>\n",
              "    <tr>\n",
              "      <th>3</th>\n",
              "      <td>1</td>\n",
              "      <td>1</td>\n",
              "      <td>1</td>\n",
              "    </tr>\n",
              "    <tr>\n",
              "      <th>4</th>\n",
              "      <td>0</td>\n",
              "      <td>0</td>\n",
              "      <td>0</td>\n",
              "    </tr>\n",
              "  </tbody>\n",
              "</table>\n",
              "</div>\n",
              "      <button class=\"colab-df-convert\" onclick=\"convertToInteractive('df-159ec076-8f1c-45e4-90d2-cc73c4cd8a4b')\"\n",
              "              title=\"Convert this dataframe to an interactive table.\"\n",
              "              style=\"display:none;\">\n",
              "        \n",
              "  <svg xmlns=\"http://www.w3.org/2000/svg\" height=\"24px\"viewBox=\"0 0 24 24\"\n",
              "       width=\"24px\">\n",
              "    <path d=\"M0 0h24v24H0V0z\" fill=\"none\"/>\n",
              "    <path d=\"M18.56 5.44l.94 2.06.94-2.06 2.06-.94-2.06-.94-.94-2.06-.94 2.06-2.06.94zm-11 1L8.5 8.5l.94-2.06 2.06-.94-2.06-.94L8.5 2.5l-.94 2.06-2.06.94zm10 10l.94 2.06.94-2.06 2.06-.94-2.06-.94-.94-2.06-.94 2.06-2.06.94z\"/><path d=\"M17.41 7.96l-1.37-1.37c-.4-.4-.92-.59-1.43-.59-.52 0-1.04.2-1.43.59L10.3 9.45l-7.72 7.72c-.78.78-.78 2.05 0 2.83L4 21.41c.39.39.9.59 1.41.59.51 0 1.02-.2 1.41-.59l7.78-7.78 2.81-2.81c.8-.78.8-2.07 0-2.86zM5.41 20L4 18.59l7.72-7.72 1.47 1.35L5.41 20z\"/>\n",
              "  </svg>\n",
              "      </button>\n",
              "      \n",
              "  <style>\n",
              "    .colab-df-container {\n",
              "      display:flex;\n",
              "      flex-wrap:wrap;\n",
              "      gap: 12px;\n",
              "    }\n",
              "\n",
              "    .colab-df-convert {\n",
              "      background-color: #E8F0FE;\n",
              "      border: none;\n",
              "      border-radius: 50%;\n",
              "      cursor: pointer;\n",
              "      display: none;\n",
              "      fill: #1967D2;\n",
              "      height: 32px;\n",
              "      padding: 0 0 0 0;\n",
              "      width: 32px;\n",
              "    }\n",
              "\n",
              "    .colab-df-convert:hover {\n",
              "      background-color: #E2EBFA;\n",
              "      box-shadow: 0px 1px 2px rgba(60, 64, 67, 0.3), 0px 1px 3px 1px rgba(60, 64, 67, 0.15);\n",
              "      fill: #174EA6;\n",
              "    }\n",
              "\n",
              "    [theme=dark] .colab-df-convert {\n",
              "      background-color: #3B4455;\n",
              "      fill: #D2E3FC;\n",
              "    }\n",
              "\n",
              "    [theme=dark] .colab-df-convert:hover {\n",
              "      background-color: #434B5C;\n",
              "      box-shadow: 0px 1px 3px 1px rgba(0, 0, 0, 0.15);\n",
              "      filter: drop-shadow(0px 1px 2px rgba(0, 0, 0, 0.3));\n",
              "      fill: #FFFFFF;\n",
              "    }\n",
              "  </style>\n",
              "\n",
              "      <script>\n",
              "        const buttonEl =\n",
              "          document.querySelector('#df-159ec076-8f1c-45e4-90d2-cc73c4cd8a4b button.colab-df-convert');\n",
              "        buttonEl.style.display =\n",
              "          google.colab.kernel.accessAllowed ? 'block' : 'none';\n",
              "\n",
              "        async function convertToInteractive(key) {\n",
              "          const element = document.querySelector('#df-159ec076-8f1c-45e4-90d2-cc73c4cd8a4b');\n",
              "          const dataTable =\n",
              "            await google.colab.kernel.invokeFunction('convertToInteractive',\n",
              "                                                     [key], {});\n",
              "          if (!dataTable) return;\n",
              "\n",
              "          const docLinkHtml = 'Like what you see? Visit the ' +\n",
              "            '<a target=\"_blank\" href=https://colab.research.google.com/notebooks/data_table.ipynb>data table notebook</a>'\n",
              "            + ' to learn more about interactive tables.';\n",
              "          element.innerHTML = '';\n",
              "          dataTable['output_type'] = 'display_data';\n",
              "          await google.colab.output.renderOutput(dataTable, element);\n",
              "          const docLink = document.createElement('div');\n",
              "          docLink.innerHTML = docLinkHtml;\n",
              "          element.appendChild(docLink);\n",
              "        }\n",
              "      </script>\n",
              "    </div>\n",
              "  </div>\n",
              "  "
            ]
          },
          "metadata": {},
          "execution_count": 19
        }
      ],
      "source": [
        "### BEGIN SOLUTION\n",
        "# Predict the class and the probability for each\n",
        "y_pred = list()\n",
        "y_prob = list()\n",
        "\n",
        "coeff_labels = ['lr', 'l1', 'l2']\n",
        "coeff_models = [lr, lr_l1, lr_l2]\n",
        "\n",
        "for lab,mod in zip(coeff_labels, coeff_models):\n",
        "    y_pred.append(pd.Series(mod.predict(X_test), name=lab))\n",
        "    y_prob.append(pd.Series(mod.predict_proba(X_test).max(axis=1), name=lab))\n",
        "\n",
        "y_pred = pd.concat(y_pred, axis=1)\n",
        "y_prob = pd.concat(y_prob, axis=1)\n",
        "\n",
        "y_pred.head()"
      ]
    },
    {
      "cell_type": "code",
      "execution_count": null,
      "metadata": {
        "jupyter": {
          "outputs_hidden": false
        },
        "id": "jtXgmSfqx_qi"
      },
      "outputs": [],
      "source": [
        "y_prob.head()\n",
        "### END SOLUTION"
      ]
    },
    {
      "cell_type": "markdown",
      "metadata": {
        "id": "PzGbrkiEx_qn"
      },
      "source": [
        "## Question 7\n",
        "\n",
        "For each model, calculate the following error metrics:\n",
        "\n",
        "*   Accuracy\n",
        "*   Precision\n",
        "*   Recall\n",
        "*   F-score\n",
        "*   Confusion Matrix\n",
        "\n",
        "Decide how to combine the multi-class metrics into a single value for each model.\n"
      ]
    },
    {
      "cell_type": "code",
      "execution_count": null,
      "metadata": {
        "jupyter": {
          "outputs_hidden": false
        },
        "id": "mfKnIJ9Yx_qq"
      },
      "outputs": [],
      "source": [
        "### BEGIN SOLUTION\n",
        "from sklearn.metrics import precision_recall_fscore_support as score\n",
        "from sklearn.metrics import confusion_matrix, accuracy_score, roc_auc_score\n",
        "from sklearn.preprocessing import label_binarize\n",
        "\n",
        "metrics = list()\n",
        "cm = dict()\n",
        "\n",
        "for lab in coeff_labels:\n",
        "\n",
        "    # Preciision, recall, f-score from the multi-class support function\n",
        "    precision, recall, fscore, _ = score(y_test, y_pred[lab], average='weighted')\n",
        "    # The usual way to calculate accuracy\n",
        "    accuracy = accuracy_score(y_test, y_pred[lab])\n",
        "\n",
        "    # ROC-AUC scores can be calculated by binarizing the data\n",
        "    auc = roc_auc_score(label_binarize(y_test, classes=[0,1,2,3,4,5]),\n",
        "              label_binarize(y_pred[lab], classes=[0,1,2,3,4,5]),\n",
        "              average='weighted')\n",
        "\n",
        "    # Last, the confusion matrix\n",
        "    cm[lab] = confusion_matrix(y_test, y_pred[lab])\n",
        "\n",
        "    metrics.append(pd.Series({'precision':precision, 'recall':recall,\n",
        "                              'fscore':fscore, 'accuracy':accuracy,\n",
        "                              'auc':auc},\n",
        "                             name=lab))\n",
        "\n",
        "metrics = pd.concat(metrics, axis=1)"
      ]
    },
    {
      "cell_type": "code",
      "execution_count": null,
      "metadata": {
        "jupyter": {
          "outputs_hidden": false
        },
        "id": "8WZEZiH3x_qs",
        "colab": {
          "base_uri": "https://localhost:8080/",
          "height": 206
        },
        "outputId": "9156f8af-5b89-4c40-ea84-9889576b2236"
      },
      "outputs": [
        {
          "output_type": "execute_result",
          "data": {
            "text/plain": [
              "                 lr        l1        l2\n",
              "precision  0.984144  0.983835  0.983824\n",
              "recall     0.984142  0.983819  0.983819\n",
              "fscore     0.984143  0.983815  0.983819\n",
              "accuracy   0.984142  0.983819  0.983819\n",
              "auc        0.990384  0.990144  0.990165"
            ],
            "text/html": [
              "\n",
              "  <div id=\"df-cb8205b1-d276-4ac9-9548-03df62b91d93\">\n",
              "    <div class=\"colab-df-container\">\n",
              "      <div>\n",
              "<style scoped>\n",
              "    .dataframe tbody tr th:only-of-type {\n",
              "        vertical-align: middle;\n",
              "    }\n",
              "\n",
              "    .dataframe tbody tr th {\n",
              "        vertical-align: top;\n",
              "    }\n",
              "\n",
              "    .dataframe thead th {\n",
              "        text-align: right;\n",
              "    }\n",
              "</style>\n",
              "<table border=\"1\" class=\"dataframe\">\n",
              "  <thead>\n",
              "    <tr style=\"text-align: right;\">\n",
              "      <th></th>\n",
              "      <th>lr</th>\n",
              "      <th>l1</th>\n",
              "      <th>l2</th>\n",
              "    </tr>\n",
              "  </thead>\n",
              "  <tbody>\n",
              "    <tr>\n",
              "      <th>precision</th>\n",
              "      <td>0.984144</td>\n",
              "      <td>0.983835</td>\n",
              "      <td>0.983824</td>\n",
              "    </tr>\n",
              "    <tr>\n",
              "      <th>recall</th>\n",
              "      <td>0.984142</td>\n",
              "      <td>0.983819</td>\n",
              "      <td>0.983819</td>\n",
              "    </tr>\n",
              "    <tr>\n",
              "      <th>fscore</th>\n",
              "      <td>0.984143</td>\n",
              "      <td>0.983815</td>\n",
              "      <td>0.983819</td>\n",
              "    </tr>\n",
              "    <tr>\n",
              "      <th>accuracy</th>\n",
              "      <td>0.984142</td>\n",
              "      <td>0.983819</td>\n",
              "      <td>0.983819</td>\n",
              "    </tr>\n",
              "    <tr>\n",
              "      <th>auc</th>\n",
              "      <td>0.990384</td>\n",
              "      <td>0.990144</td>\n",
              "      <td>0.990165</td>\n",
              "    </tr>\n",
              "  </tbody>\n",
              "</table>\n",
              "</div>\n",
              "      <button class=\"colab-df-convert\" onclick=\"convertToInteractive('df-cb8205b1-d276-4ac9-9548-03df62b91d93')\"\n",
              "              title=\"Convert this dataframe to an interactive table.\"\n",
              "              style=\"display:none;\">\n",
              "        \n",
              "  <svg xmlns=\"http://www.w3.org/2000/svg\" height=\"24px\"viewBox=\"0 0 24 24\"\n",
              "       width=\"24px\">\n",
              "    <path d=\"M0 0h24v24H0V0z\" fill=\"none\"/>\n",
              "    <path d=\"M18.56 5.44l.94 2.06.94-2.06 2.06-.94-2.06-.94-.94-2.06-.94 2.06-2.06.94zm-11 1L8.5 8.5l.94-2.06 2.06-.94-2.06-.94L8.5 2.5l-.94 2.06-2.06.94zm10 10l.94 2.06.94-2.06 2.06-.94-2.06-.94-.94-2.06-.94 2.06-2.06.94z\"/><path d=\"M17.41 7.96l-1.37-1.37c-.4-.4-.92-.59-1.43-.59-.52 0-1.04.2-1.43.59L10.3 9.45l-7.72 7.72c-.78.78-.78 2.05 0 2.83L4 21.41c.39.39.9.59 1.41.59.51 0 1.02-.2 1.41-.59l7.78-7.78 2.81-2.81c.8-.78.8-2.07 0-2.86zM5.41 20L4 18.59l7.72-7.72 1.47 1.35L5.41 20z\"/>\n",
              "  </svg>\n",
              "      </button>\n",
              "      \n",
              "  <style>\n",
              "    .colab-df-container {\n",
              "      display:flex;\n",
              "      flex-wrap:wrap;\n",
              "      gap: 12px;\n",
              "    }\n",
              "\n",
              "    .colab-df-convert {\n",
              "      background-color: #E8F0FE;\n",
              "      border: none;\n",
              "      border-radius: 50%;\n",
              "      cursor: pointer;\n",
              "      display: none;\n",
              "      fill: #1967D2;\n",
              "      height: 32px;\n",
              "      padding: 0 0 0 0;\n",
              "      width: 32px;\n",
              "    }\n",
              "\n",
              "    .colab-df-convert:hover {\n",
              "      background-color: #E2EBFA;\n",
              "      box-shadow: 0px 1px 2px rgba(60, 64, 67, 0.3), 0px 1px 3px 1px rgba(60, 64, 67, 0.15);\n",
              "      fill: #174EA6;\n",
              "    }\n",
              "\n",
              "    [theme=dark] .colab-df-convert {\n",
              "      background-color: #3B4455;\n",
              "      fill: #D2E3FC;\n",
              "    }\n",
              "\n",
              "    [theme=dark] .colab-df-convert:hover {\n",
              "      background-color: #434B5C;\n",
              "      box-shadow: 0px 1px 3px 1px rgba(0, 0, 0, 0.15);\n",
              "      filter: drop-shadow(0px 1px 2px rgba(0, 0, 0, 0.3));\n",
              "      fill: #FFFFFF;\n",
              "    }\n",
              "  </style>\n",
              "\n",
              "      <script>\n",
              "        const buttonEl =\n",
              "          document.querySelector('#df-cb8205b1-d276-4ac9-9548-03df62b91d93 button.colab-df-convert');\n",
              "        buttonEl.style.display =\n",
              "          google.colab.kernel.accessAllowed ? 'block' : 'none';\n",
              "\n",
              "        async function convertToInteractive(key) {\n",
              "          const element = document.querySelector('#df-cb8205b1-d276-4ac9-9548-03df62b91d93');\n",
              "          const dataTable =\n",
              "            await google.colab.kernel.invokeFunction('convertToInteractive',\n",
              "                                                     [key], {});\n",
              "          if (!dataTable) return;\n",
              "\n",
              "          const docLinkHtml = 'Like what you see? Visit the ' +\n",
              "            '<a target=\"_blank\" href=https://colab.research.google.com/notebooks/data_table.ipynb>data table notebook</a>'\n",
              "            + ' to learn more about interactive tables.';\n",
              "          element.innerHTML = '';\n",
              "          dataTable['output_type'] = 'display_data';\n",
              "          await google.colab.output.renderOutput(dataTable, element);\n",
              "          const docLink = document.createElement('div');\n",
              "          docLink.innerHTML = docLinkHtml;\n",
              "          element.appendChild(docLink);\n",
              "        }\n",
              "      </script>\n",
              "    </div>\n",
              "  </div>\n",
              "  "
            ]
          },
          "metadata": {},
          "execution_count": 21
        }
      ],
      "source": [
        "metrics\n",
        "### END SOLUTION"
      ]
    },
    {
      "cell_type": "markdown",
      "metadata": {
        "id": "fkTNRKYPx_qu"
      },
      "source": [
        "## Question 8\n",
        "\n",
        "*   Display or plot the confusion matrix for each model.\n"
      ]
    },
    {
      "cell_type": "code",
      "execution_count": null,
      "metadata": {
        "jupyter": {
          "outputs_hidden": false
        },
        "id": "rEvSBfGCx_qv",
        "colab": {
          "base_uri": "https://localhost:8080/",
          "height": 729
        },
        "outputId": "769f581e-286c-47a6-dd8a-c0566e9226a4"
      },
      "outputs": [
        {
          "output_type": "display_data",
          "data": {
            "text/plain": [
              "<Figure size 864x720 with 7 Axes>"
            ],
            "image/png": "[encoded data removed]"
          },
          "metadata": {
            "needs_background": "light"
          }
        }
      ],
      "source": [
        "### BEGIN SOLUTION\n",
        "fig, axList = plt.subplots(nrows=2, ncols=2)\n",
        "axList = axList.flatten()\n",
        "fig.set_size_inches(12, 10)\n",
        "\n",
        "axList[-1].axis('off')\n",
        "\n",
        "for ax,lab in zip(axList[:-1], coeff_labels):\n",
        "    sns.heatmap(cm[lab], ax=ax, annot=True, fmt='d');\n",
        "    ax.set(title=lab);\n",
        "\n",
        "plt.tight_layout()\n",
        "### END SOLUTION"
      ]
    },
    {
      "cell_type": "markdown",
      "metadata": {
        "id": "nmLxbjgJx_qw"
      },
      "source": [
        "***\n",
        "\n",
        "### Machine Learning Foundation (C) 2020 IBM Corporation\n"
      ]
    }
  ],
  "metadata": {
    "kernelspec": {
      "display_name": "Python",
      "language": "python",
      "name": "conda-env-python-py"
    },
    "language_info": {
      "codemirror_mode": {
        "name": "ipython",
        "version": 3
      },
      "file_extension": ".py",
      "mimetype": "text/x-python",
      "name": "python",
      "nbconvert_exporter": "python",
      "pygments_lexer": "ipython3",
      "version": "3.7.12"
    },
    "colab": {
      "provenance": []
    }
  },
  "nbformat": 4,
  "nbformat_minor": 0
}